{
 "cells": [
  {
   "cell_type": "code",
   "execution_count": 2,
   "id": "26827beb",
   "metadata": {},
   "outputs": [
    {
     "name": "stdout",
     "output_type": "stream",
     "text": [
      "0.6000000000000001\n",
      "<class 'float'>\n"
     ]
    }
   ],
   "source": [
    "x = float(0.2)\n",
    "y = float(0.4)\n",
    "z = x+y\n",
    "print(z)\n",
    "print(type(z))"
   ]
  },
  {
   "cell_type": "code",
   "execution_count": 3,
   "id": "cfb2a46b",
   "metadata": {},
   "outputs": [
    {
     "name": "stdout",
     "output_type": "stream",
     "text": [
      "0.2\n"
     ]
    }
   ],
   "source": [
    "a = 0.2\n",
    "print(a)"
   ]
  },
  {
   "cell_type": "code",
   "execution_count": 4,
   "id": "bc7f93a5",
   "metadata": {},
   "outputs": [
    {
     "name": "stdout",
     "output_type": "stream",
     "text": [
      "0.8\n"
     ]
    }
   ],
   "source": [
    "a = 0.2 + 0.6\n",
    "print(a)"
   ]
  },
  {
   "cell_type": "code",
   "execution_count": 5,
   "id": "63190113",
   "metadata": {},
   "outputs": [
    {
     "data": {
      "text/plain": [
       "False"
      ]
     },
     "execution_count": 5,
     "metadata": {},
     "output_type": "execute_result"
    }
   ],
   "source": [
    "b = 0.2\n",
    "c = 0.6\n",
    "e = b + c\n",
    "e == 0.6"
   ]
  },
  {
   "cell_type": "code",
   "execution_count": 11,
   "id": "23734caa",
   "metadata": {},
   "outputs": [
    {
     "ename": "SyntaxError",
     "evalue": "invalid syntax (3146569377.py, line 1)",
     "output_type": "error",
     "traceback": [
      "\u001b[1;36m  Cell \u001b[1;32mIn[11], line 1\u001b[1;36m\u001b[0m\n\u001b[1;33m    (print(float(e)):\u001b[0m\n\u001b[1;37m                    ^\u001b[0m\n\u001b[1;31mSyntaxError\u001b[0m\u001b[1;31m:\u001b[0m invalid syntax\n"
     ]
    }
   ],
   "source": [
    "(print(float(e)):"
   ]
  },
  {
   "cell_type": "code",
   "execution_count": 8,
   "id": "7edb1d6d",
   "metadata": {},
   "outputs": [
    {
     "data": {
      "text/plain": [
       "True"
      ]
     },
     "execution_count": 8,
     "metadata": {},
     "output_type": "execute_result"
    }
   ],
   "source": [
    "x = 0.2\n",
    "y = 0.6\n",
    "z = x + y \n",
    "z == 0.8"
   ]
  },
  {
   "cell_type": "code",
   "execution_count": 9,
   "id": "9d7230dd",
   "metadata": {},
   "outputs": [
    {
     "name": "stdout",
     "output_type": "stream",
     "text": [
      "0.8\n"
     ]
    }
   ],
   "source": [
    "print(z)"
   ]
  },
  {
   "cell_type": "code",
   "execution_count": 28,
   "id": "827f6571",
   "metadata": {},
   "outputs": [
    {
     "ename": "IndentationError",
     "evalue": "unexpected indent (1655192220.py, line 8)",
     "output_type": "error",
     "traceback": [
      "\u001b[1;36m  Cell \u001b[1;32mIn[28], line 8\u001b[1;36m\u001b[0m\n\u001b[1;33m    if True print(\"Profitez bien\")\u001b[0m\n\u001b[1;37m    ^\u001b[0m\n\u001b[1;31mIndentationError\u001b[0m\u001b[1;31m:\u001b[0m unexpected indent\n"
     ]
    }
   ],
   "source": [
    "age = int(input(\"Veuillez entrer votre age : \"))\n",
    "print(\"Vous avez : \" , age , \"ans\")\n",
    "if 65 > age > 18:\n",
    "    print(\"Vous êtes majeur\")\n",
    "    \n",
    "if  age > 65:\n",
    "    ageretraite = bool(input(\"Vous êtes retraité ?\"))\n",
    "        if True print(\"Profitez bien\")\n",
    "        else print(\"C'est pour bientôt !\")\n",
    "                       \n",
    "else: print(\"Vous êtes mineur\")"
   ]
  },
  {
   "cell_type": "code",
   "execution_count": 7,
   "id": "f70dbcd4",
   "metadata": {},
   "outputs": [
    {
     "name": "stdout",
     "output_type": "stream",
     "text": [
      "Veuillez entrer votre âge : 99\n",
      "Vous avez : 99 ans\n",
      "Vous êtes à la retraite ? oui/non yes\n",
      "C'est pour bientôt !\n"
     ]
    }
   ],
   "source": [
    "age = int(input(\"Veuillez entrer votre âge : \"))\n",
    "oui = {\"oui\", \"ouais\", \"yes\"}\n",
    "\n",
    "print(\"Vous avez :\", age, \"ans\")\n",
    "\n",
    "if 65 > age > 18:\n",
    "    print(\"Vous êtes majeur\")\n",
    "\n",
    "elif age > 65:\n",
    "        ageretraite = (input(\"Vous êtes à la retraite ? oui/non \"))\n",
    "\n",
    "        if ageretraite == oui:\n",
    "            print(\"Profitez bien de votre retraite !\")\n",
    "        else:\n",
    "            print(\"C'est pour bientôt !\")\n",
    "\n",
    "else:\n",
    "    print(\"Vous êtes mineur\")"
   ]
  },
  {
   "cell_type": "code",
   "execution_count": 8,
   "id": "0b71527b",
   "metadata": {},
   "outputs": [
    {
     "data": {
      "text/plain": [
       "736"
      ]
     },
     "execution_count": 8,
     "metadata": {},
     "output_type": "execute_result"
    }
   ],
   "source": [
    "7 + 3**6"
   ]
  },
  {
   "cell_type": "code",
   "execution_count": 9,
   "id": "56aa386b",
   "metadata": {},
   "outputs": [
    {
     "data": {
      "text/plain": [
       "343"
      ]
     },
     "execution_count": 9,
     "metadata": {},
     "output_type": "execute_result"
    }
   ],
   "source": [
    "(3+4)**3"
   ]
  },
  {
   "cell_type": "code",
   "execution_count": 10,
   "id": "0d1e3bac",
   "metadata": {},
   "outputs": [
    {
     "data": {
      "text/plain": [
       "724"
      ]
     },
     "execution_count": 10,
     "metadata": {},
     "output_type": "execute_result"
    }
   ],
   "source": [
    "3**6-5"
   ]
  },
  {
   "cell_type": "code",
   "execution_count": 11,
   "id": "7e4d86ef",
   "metadata": {},
   "outputs": [
    {
     "data": {
      "text/plain": [
       "1285"
      ]
     },
     "execution_count": 11,
     "metadata": {},
     "output_type": "execute_result"
    }
   ],
   "source": [
    "(1+2**8)*5"
   ]
  },
  {
   "cell_type": "code",
   "execution_count": 12,
   "id": "d2c5fe24",
   "metadata": {},
   "outputs": [
    {
     "data": {
      "text/plain": [
       "2187"
      ]
     },
     "execution_count": 12,
     "metadata": {},
     "output_type": "execute_result"
    }
   ],
   "source": [
    "(2+1**8)**7"
   ]
  },
  {
   "cell_type": "code",
   "execution_count": 13,
   "id": "1aa7945a",
   "metadata": {},
   "outputs": [
    {
     "data": {
      "text/plain": [
       "27"
      ]
     },
     "execution_count": 13,
     "metadata": {},
     "output_type": "execute_result"
    }
   ],
   "source": [
    "(1+2)**3"
   ]
  },
  {
   "cell_type": "code",
   "execution_count": 14,
   "id": "746952f9",
   "metadata": {},
   "outputs": [
    {
     "data": {
      "text/plain": [
       "'DaDaDaDa'"
      ]
     },
     "execution_count": 14,
     "metadata": {},
     "output_type": "execute_result"
    }
   ],
   "source": [
    "\"Da\" * 4"
   ]
  },
  {
   "cell_type": "code",
   "execution_count": 15,
   "id": "85be652c",
   "metadata": {},
   "outputs": [
    {
     "ename": "TypeError",
     "evalue": "can only concatenate str (not \"int\") to str",
     "output_type": "error",
     "traceback": [
      "\u001b[1;31m---------------------------------------------------------------------------\u001b[0m",
      "\u001b[1;31mTypeError\u001b[0m                                 Traceback (most recent call last)",
      "Cell \u001b[1;32mIn[15], line 1\u001b[0m\n\u001b[1;32m----> 1\u001b[0m \u001b[38;5;124m\"\u001b[39m\u001b[38;5;124mDa\u001b[39m\u001b[38;5;124m\"\u001b[39m \u001b[38;5;241m+\u001b[39m \u001b[38;5;241m3\u001b[39m\n",
      "\u001b[1;31mTypeError\u001b[0m: can only concatenate str (not \"int\") to str"
     ]
    }
   ],
   "source": [
    "\"Da\" + 3"
   ]
  },
  {
   "cell_type": "code",
   "execution_count": 16,
   "id": "b45fa191",
   "metadata": {},
   "outputs": [
    {
     "data": {
      "text/plain": [
       "'PaLaPaLa'"
      ]
     },
     "execution_count": 16,
     "metadata": {},
     "output_type": "execute_result"
    }
   ],
   "source": [
    "(\"Pa\"+\"La\") * 2"
   ]
  },
  {
   "cell_type": "code",
   "execution_count": 17,
   "id": "7573f43b",
   "metadata": {},
   "outputs": [
    {
     "ename": "TypeError",
     "evalue": "unsupported operand type(s) for /: 'str' and 'int'",
     "output_type": "error",
     "traceback": [
      "\u001b[1;31m---------------------------------------------------------------------------\u001b[0m",
      "\u001b[1;31mTypeError\u001b[0m                                 Traceback (most recent call last)",
      "Cell \u001b[1;32mIn[17], line 1\u001b[0m\n\u001b[1;32m----> 1\u001b[0m (\u001b[38;5;124m\"\u001b[39m\u001b[38;5;124mDa\u001b[39m\u001b[38;5;124m\"\u001b[39m\u001b[38;5;241m*\u001b[39m\u001b[38;5;241m4\u001b[39m) \u001b[38;5;241m/\u001b[39m \u001b[38;5;241m2\u001b[39m\n",
      "\u001b[1;31mTypeError\u001b[0m: unsupported operand type(s) for /: 'str' and 'int'"
     ]
    }
   ],
   "source": [
    "(\"Da\"*4) / 2"
   ]
  },
  {
   "cell_type": "code",
   "execution_count": 18,
   "id": "e64cc136",
   "metadata": {},
   "outputs": [
    {
     "data": {
      "text/plain": [
       "2.5"
      ]
     },
     "execution_count": 18,
     "metadata": {},
     "output_type": "execute_result"
    }
   ],
   "source": [
    "5 / 2"
   ]
  },
  {
   "cell_type": "code",
   "execution_count": 19,
   "id": "ce1a71e4",
   "metadata": {},
   "outputs": [
    {
     "data": {
      "text/plain": [
       "2"
      ]
     },
     "execution_count": 19,
     "metadata": {},
     "output_type": "execute_result"
    }
   ],
   "source": [
    "5 // 2"
   ]
  },
  {
   "cell_type": "code",
   "execution_count": 20,
   "id": "3e1d91e7",
   "metadata": {},
   "outputs": [
    {
     "data": {
      "text/plain": [
       "1"
      ]
     },
     "execution_count": 20,
     "metadata": {},
     "output_type": "execute_result"
    }
   ],
   "source": [
    "5 % 2"
   ]
  },
  {
   "cell_type": "code",
   "execution_count": 21,
   "id": "5b7ba021",
   "metadata": {},
   "outputs": [
    {
     "data": {
      "text/plain": [
       "'444'"
      ]
     },
     "execution_count": 21,
     "metadata": {},
     "output_type": "execute_result"
    }
   ],
   "source": [
    "str(4) * int(\"3\")"
   ]
  },
  {
   "cell_type": "code",
   "execution_count": 22,
   "id": "f12def03",
   "metadata": {},
   "outputs": [
    {
     "data": {
      "text/plain": [
       "6.2"
      ]
     },
     "execution_count": 22,
     "metadata": {},
     "output_type": "execute_result"
    }
   ],
   "source": [
    "int(\"3\") + float(\"3.2\")"
   ]
  },
  {
   "cell_type": "code",
   "execution_count": 23,
   "id": "d6b86bfb",
   "metadata": {},
   "outputs": [
    {
     "ename": "TypeError",
     "evalue": "can't multiply sequence by non-int of type 'float'",
     "output_type": "error",
     "traceback": [
      "\u001b[1;31m---------------------------------------------------------------------------\u001b[0m",
      "\u001b[1;31mTypeError\u001b[0m                                 Traceback (most recent call last)",
      "Cell \u001b[1;32mIn[23], line 1\u001b[0m\n\u001b[1;32m----> 1\u001b[0m \u001b[38;5;28mstr\u001b[39m(\u001b[38;5;241m3\u001b[39m) \u001b[38;5;241m*\u001b[39m \u001b[38;5;28mfloat\u001b[39m(\u001b[38;5;124m\"\u001b[39m\u001b[38;5;124m3.2\u001b[39m\u001b[38;5;124m\"\u001b[39m)\n",
      "\u001b[1;31mTypeError\u001b[0m: can't multiply sequence by non-int of type 'float'"
     ]
    }
   ],
   "source": [
    "str(3) * float(\"3.2\")"
   ]
  },
  {
   "cell_type": "code",
   "execution_count": 24,
   "id": "f1a378d2",
   "metadata": {},
   "outputs": [
    {
     "data": {
      "text/plain": [
       "'0.750.75'"
      ]
     },
     "execution_count": 24,
     "metadata": {},
     "output_type": "execute_result"
    }
   ],
   "source": [
    "str(3/4) * 2"
   ]
  },
  {
   "cell_type": "code",
   "execution_count": null,
   "id": "b62b56cf",
   "metadata": {},
   "outputs": [],
   "source": []
  }
 ],
 "metadata": {
  "kernelspec": {
   "display_name": "Python 3 (ipykernel)",
   "language": "python",
   "name": "python3"
  },
  "language_info": {
   "codemirror_mode": {
    "name": "ipython",
    "version": 3
   },
   "file_extension": ".py",
   "mimetype": "text/x-python",
   "name": "python",
   "nbconvert_exporter": "python",
   "pygments_lexer": "ipython3",
   "version": "3.11.5"
  }
 },
 "nbformat": 4,
 "nbformat_minor": 5
}
