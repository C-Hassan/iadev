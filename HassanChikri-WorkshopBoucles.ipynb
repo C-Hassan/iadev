{
 "cells": [
  {
   "cell_type": "code",
   "execution_count": 26,
   "id": "7adcd170",
   "metadata": {},
   "outputs": [],
   "source": [
    "def main():\n",
    "    print(\"Bienvenue dans le jeu de la dichotomie !\")\n",
    "    return int"
   ]
  },
  {
   "cell_type": "code",
   "execution_count": null,
   "id": "3f763943",
   "metadata": {},
   "outputs": [],
   "source": [
    "def main():\n",
    "    print(\"Bienvenue dans le jeu de la dichotomie !\")\n",
    "    userName = input(\"Quel est votre pseudo ?\")\n",
    "    return int"
   ]
  },
  {
   "cell_type": "code",
   "execution_count": 22,
   "id": "5327fc26",
   "metadata": {},
   "outputs": [
    {
     "name": "stdout",
     "output_type": "stream",
     "text": [
      "Bienvenue dans le jeu de la dichotomie !\n",
      "Pensez à un nombre entre 1 et 100\n",
      "Quel est votre pseudo ?555\n"
     ]
    },
    {
     "data": {
      "text/plain": [
       "int"
      ]
     },
     "execution_count": 22,
     "metadata": {},
     "output_type": "execute_result"
    }
   ],
   "source": [
    "def main():\n",
    "    print(\"Bienvenue dans le jeu de la dichotomie !\")\n",
    "    print(\"Pensez à un nombre entre 1 et 100\")\n",
    "    userName = input(\"Quel est votre pseudo ?\")\n",
    "    maxValue = 100\n",
    "    minValue = 0\n",
    "     = min(maxValue, max(0, minValue, 100))\n",
    "    return int\n",
    "main()"
   ]
  },
  {
   "cell_type": "code",
   "execution_count": null,
   "id": "852f2cad",
   "metadata": {},
   "outputs": [],
   "source": [
    "if x >= maxValue or x <= minValue:\n",
    "            print(\"Ce n'est pas entre 0 et 100..\")"
   ]
  },
  {
   "cell_type": "code",
   "execution_count": null,
   "id": "10a3eee2",
   "metadata": {},
   "outputs": [],
   "source": [
    "def main():\n",
    "    print(\"Bienvenue dans le jeu de la dichotomie !\")\n",
    "    print(\"Pensez à un nombre entre 1 et 100\")\n",
    "    userName = input(\"Quel est votre pseudo ?\")\n",
    "    maxValue = 100\n",
    "    minValue = 0\n",
    "    x = min(maxValue, max(0, minValue, 100))\n",
    "    return int\n",
    "main()\n",
    "y = 100 / 2\n",
    "x = input(\"Est ce que c'est plus grand, plus petit ou égal à\" , y)\n",
    "    while x != \"=\":\n",
    "    if x == input(\"+\"):\n",
    "    (y + (100-y) / 2) == z\n",
    "\n",
    "    print(\"Est ce que c'est\" , x , \"que\" , z)\n",
    "    x == input(\" C'est + ?\")\n",
    "    (z + (100-z) / 2) == z    \n",
    "\n",
    "    print(\"Est ce que c'est\" , x , \"que\" , z)\n",
    "    \n",
    "    if x == input (\"-\"):\n",
    "    (y - (100-y) /+\n",
    "     2) == z\n",
    "\n",
    "    print(\"Est ce que c'est\" , x , \"que\" , z)\n",
    "    x == input(\" C'est + ?\")\n",
    "    (z - (100-z) / 2) == z    \n",
    "\n",
    "    print(\"Est ce que c'est\" , x , \"que\" , z)\n",
    "    else:\n",
    "    print(\"J'ai trouvé ! Ton chiffre est:\", z)"
   ]
  },
  {
   "cell_type": "code",
   "execution_count": null,
   "id": "bbb4e53c",
   "metadata": {},
   "outputs": [
    {
     "name": "stdout",
     "output_type": "stream",
     "text": [
      "Bienvenue dans le jeu de la dichotomie !\n",
      "Pensez à un nombre entre 1 et 100\n"
     ]
    }
   ],
   "source": [
    "def main():\n",
    "    print(\"Bienvenue dans le jeu de la dichotomie !\")\n",
    "    print(\"Pensez à un nombre entre 1 et 100\")\n",
    "    userName = input(\"Quel est votre pseudo ?\")\n",
    "    maxValue = 100\n",
    "    minValue = 0\n",
    "    z = min(maxValue, max(0, minValue, 100))\n",
    "    return int \n",
    "\n",
    "main()\n",
    "y = 100 / 2\n",
    "x = input(\"Est-ce que c'est plus grand, plus petit ou égal à\", y)\n",
    "\n",
    "while x != \"=\":\n",
    "    if x == \"+\":\n",
    "        y = y + (100 - y) / 2\n",
    "    elif x == \"-\":  \n",
    "        y = y - (100 - y) / 2\n",
    "\n",
    "    print(\"Est-ce que c'est\", x, \"que\", y)\n",
    "    x = input(\" C'est + ?\")\n",
    "\n",
    "print(\"J'ai trouvé ! Ton chiffre est:\", y)"
   ]
  },
  {
   "cell_type": "code",
   "execution_count": null,
   "id": "9098155e",
   "metadata": {},
   "outputs": [],
   "source": [
    "##Correction ci-dessous##"
   ]
  },
  {
   "cell_type": "code",
   "execution_count": 4,
   "id": "9b3a4552",
   "metadata": {},
   "outputs": [
    {
     "name": "stdout",
     "output_type": "stream",
     "text": [
      "Bienvenue dans le jeu de la dichotomie !\n",
      "Pensez à un nombre entre 1 et 100\n",
      "Quel est votre pseudo ?oui\n",
      "Est-ce que c'est plus grand, plus petit ou égal à 50.0 ?-\n",
      "Est-ce que c'est - que 25\n",
      "C'est +, -, ou = ?-\n",
      "Est-ce que c'est - que 12\n",
      "C'est +, -, ou = ?-\n",
      "Est-ce que c'est - que 6\n",
      "C'est +, -, ou = ?-\n",
      "Est-ce que c'est - que 3\n",
      "C'est +, -, ou = ?-\n",
      "Est-ce que c'est - que 1\n",
      "C'est +, -, ou = ?+\n",
      "Est-ce que c'est + que 2\n",
      "C'est +, -, ou = ?=\n",
      "J'ai trouvé ! Ton chiffre est: 2\n"
     ]
    }
   ],
   "source": [
    "def main():\n",
    "    print(\"Bienvenue dans le jeu de la dichotomie !\")\n",
    "    print(\"Pensez à un nombre entre 1 et 100\")\n",
    "    userName = input(\"Quel est votre pseudo ?\")\n",
    "    maxValue = 100\n",
    "    minValue = 0\n",
    "    z = int((maxValue + minValue) / 2)\n",
    "    y = 100 / 2\n",
    "    x = input(\"Est-ce que c'est plus grand, plus petit ou égal à \" + str(y) + \" ?\")\n",
    "\n",
    "    while x != \"=\":\n",
    "        if x == \"+\":\n",
    "            minValue = z\n",
    "        elif x == \"-\":\n",
    "            maxValue = z\n",
    "        else:\n",
    "            print(\"Entrée invalide. Utilisez +, - ou =.\")\n",
    "            continue\n",
    "\n",
    "        z = int((maxValue + minValue) / 2)\n",
    "        y = (maxValue + minValue) / 2\n",
    "\n",
    "        print(\"Est-ce que c'est\", x, \"que\", z)\n",
    "        x = input(\"C'est +, -, ou = ?\")\n",
    "\n",
    "    print(\"J'ai trouvé ! Ton chiffre est:\", z)\n",
    "\n",
    "main()"
   ]
  },
  {
   "cell_type": "code",
   "execution_count": null,
   "id": "7d2c484b",
   "metadata": {},
   "outputs": [],
   "source": []
  }
 ],
 "metadata": {
  "kernelspec": {
   "display_name": "Python 3 (ipykernel)",
   "language": "python",
   "name": "python3"
  },
  "language_info": {
   "codemirror_mode": {
    "name": "ipython",
    "version": 3
   },
   "file_extension": ".py",
   "mimetype": "text/x-python",
   "name": "python",
   "nbconvert_exporter": "python",
   "pygments_lexer": "ipython3",
   "version": "3.11.5"
  }
 },
 "nbformat": 4,
 "nbformat_minor": 5
}
