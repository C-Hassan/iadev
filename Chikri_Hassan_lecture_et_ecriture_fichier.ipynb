{
 "cells": [
  {
   "cell_type": "markdown",
   "id": "b4d61651",
   "metadata": {},
   "source": [
    "## Découverte : manipulation des fichiers csv\n",
    "\n",
    "# Lire un fichier à l'aide de la fonction Reader()"
   ]
  },
  {
   "cell_type": "code",
   "execution_count": 2,
   "id": "5422cc48",
   "metadata": {},
   "outputs": [
    {
     "name": "stdout",
     "output_type": "stream",
     "text": [
      "['Langage de programmation;Créé par ;apparu;Extension']\n",
      "['Python;Guido van Rossum;1991;.py']\n",
      "['JavaScript;Brendan Eich; 1995;.js']\n",
      "['PHP;Ramsus Ledorf;1994;.php']\n"
     ]
    }
   ],
   "source": [
    "import csv;\n",
    "f= open (r\"C:\\Users\\chikr\\Downloads/data.csv\")\n",
    "myReader = csv.reader(f)\n",
    "for row in myReader:\n",
    "print(row)"
   ]
  },
  {
   "cell_type": "markdown",
   "id": "ebc95495",
   "metadata": {},
   "source": [
    "- Import module csv\n",
    "- Ouverture en mode lecture \"r\" en variable f\n",
    "- Création variable myReader avec fonction .reader de f\n",
    "- affichage"
   ]
  },
  {
   "cell_type": "markdown",
   "id": "c0882bdf",
   "metadata": {},
   "source": [
    "# Lire un fichier comme un dictionnaire à l'aide de la fonction Reader()"
   ]
  },
  {
   "cell_type": "code",
   "execution_count": 8,
   "id": "9f65a697",
   "metadata": {},
   "outputs": [
    {
     "name": "stdout",
     "output_type": "stream",
     "text": [
      "{'Langage de programmation;Créé par ;apparu;Extension': 'Python;Guido van Rossum;1991;.py'}\n",
      "{'Langage de programmation;Créé par ;apparu;Extension': 'JavaScript;Brendan Eich; 1995;.js'}\n",
      "{'Langage de programmation;Créé par ;apparu;Extension': 'PHP;Ramsus Ledorf;1994;.php'}\n"
     ]
    }
   ],
   "source": [
    "reader = csv.DictReader(open(r\"C:\\Users\\chikr\\Downloads/data.csv\"))\n",
    "for raw in reader:\n",
    "    print(raw)"
   ]
  },
  {
   "cell_type": "markdown",
   "id": "048ab871",
   "metadata": {},
   "source": [
    "# Créer un fichier CSV à l'aide de la fonction CSV"
   ]
  },
  {
   "cell_type": "code",
   "execution_count": 7,
   "id": "a3171311",
   "metadata": {},
   "outputs": [],
   "source": [
    "with open('data2.csv','w',newline='') as fichiercsv:\n",
    "    writer=csv.writer(fichiercsv)\n",
    "    writer.writerow(['Nom', 'Prénom', 'E-mail', 'Télephone'])\n",
    "    writer.writerow(['Depond', 'Marcel', 'Marcel@gmail.com', '1020304050'])\n",
    "    writer.writerow(['Alicat', 'Patricia', 'Alicatpa@gmail.com', '1224455660'])\n",
    "    writer.writerow(['Muller', 'Antoni', 'Antoni.muller@gmail.com', '1669988445'])\n",
    "    writer.writerow(['Massont', 'Rodulf', 'Massant.rodulf@gmail.com', '1669988444']) "
   ]
  },
  {
   "cell_type": "markdown",
   "id": "8f39a6de",
   "metadata": {},
   "source": [
    "# Ecrire un fichier CSV existant"
   ]
  },
  {
   "cell_type": "code",
   "execution_count": 20,
   "id": "0bf9d4b8",
   "metadata": {},
   "outputs": [],
   "source": [
    "import csv\n",
    "\n",
    "with open('data2.csv', 'a', newline='', encoding='utf-8') as fichiercsv:\n",
    "    writer = csv.writer(fichiercsv)\n",
    "    writer.writerow(['modifier', 'csv', 'existant@mail.fr', '1669987744'])"
   ]
  },
  {
   "cell_type": "markdown",
   "id": "339b5693",
   "metadata": {},
   "source": [
    "## Utilisation de la méthode .readlines() avec une boucle FOR"
   ]
  },
  {
   "cell_type": "code",
   "execution_count": 4,
   "id": "ae2bdc51",
   "metadata": {},
   "outputs": [
    {
     "name": "stdout",
     "output_type": "stream",
     "text": [
      "girafe\n",
      "\n",
      "tigre\n",
      "\n",
      "singe\n",
      "\n",
      "souris\n"
     ]
    }
   ],
   "source": [
    "filin = open(\"C:\\\\Users\\\\chikr\\\\Downloads\\\\zoo.txt\",\"r\")\n",
    "lignes = filin.readlines()\n",
    "for ligne in lignes:\n",
    "     print(ligne)\n",
    "\n",
    "filin.close()\n"
   ]
  },
  {
   "cell_type": "markdown",
   "id": "a10327a2",
   "metadata": {},
   "source": [
    "- Ouverture du fichier en lecture \"r\" en variable filin\n",
    "- Nouvelle variable lignes qui affecte .readlines à filin\n",
    "- Affichage"
   ]
  },
  {
   "cell_type": "markdown",
   "id": "ad78c7ce",
   "metadata": {},
   "source": [
    "## Utilisation de la méthode .readlines() avec une boucle WHILE"
   ]
  },
  {
   "cell_type": "code",
   "execution_count": 14,
   "id": "2c11296c",
   "metadata": {},
   "outputs": [
    {
     "name": "stdout",
     "output_type": "stream",
     "text": [
      "girafe\n",
      "\n",
      "tigre\n",
      "\n",
      "singe\n",
      "\n",
      "souris\n"
     ]
    }
   ],
   "source": [
    "with open(\"C:\\\\Users\\\\chikr\\\\Downloads\\\\zoo.txt\", \"r\") as filin:\n",
    "    ligne = filin.readline()\n",
    "    while ligne != \"\":\n",
    "            print(ligne)\n",
    "            ligne = filin.readline()"
   ]
  },
  {
   "cell_type": "markdown",
   "id": "d6b9425b",
   "metadata": {},
   "source": [
    "## Utilisation de la méthode .read()"
   ]
  },
  {
   "cell_type": "code",
   "execution_count": 9,
   "id": "036462c1",
   "metadata": {},
   "outputs": [
    {
     "name": "stdout",
     "output_type": "stream",
     "text": [
      "girafe\n",
      "tigre\n",
      "singe\n",
      "souris\n"
     ]
    }
   ],
   "source": [
    "with open(\"C:\\\\Users\\\\chikr\\\\Downloads\\\\zoo.txt\", \"r\") as filin:\n",
    "    afficher = filin.read()\n",
    "    print(afficher)"
   ]
  },
  {
   "cell_type": "markdown",
   "id": "bbdeb756",
   "metadata": {},
   "source": [
    "## Ecrire dans un fichier méthode .write"
   ]
  },
  {
   "cell_type": "code",
   "execution_count": 15,
   "id": "63f79c12",
   "metadata": {},
   "outputs": [],
   "source": [
    "animaux2 = [\"poisson\", \"abeille\", \"chat\"]\n",
    "with open(\"C:\\\\Users\\\\chikr\\\\Downloads\\\\zoo.txt\", \"w\") as filout:\n",
    "     for animal in animaux2:\n",
    "             filout.write(animal)"
   ]
  },
  {
   "cell_type": "markdown",
   "id": "5f2c1541",
   "metadata": {},
   "source": [
    "- Création d'une liste\n",
    "- Ouverture du fichier en mode écriture \"write\" en variable filout\n",
    "- Nouvelle variable animal\n",
    "- écrire dans filou la variable animal\n",
    "\n"
   ]
  },
  {
   "cell_type": "markdown",
   "id": "f9ab4b19",
   "metadata": {},
   "source": [
    "## Lecture de fichier avec Pandas"
   ]
  },
  {
   "cell_type": "code",
   "execution_count": 18,
   "id": "ff006de1",
   "metadata": {},
   "outputs": [],
   "source": [
    "import numpy as np\n",
    "import pandas as pd\n",
    "import matplotlib.pyplot as plt"
   ]
  },
  {
   "cell_type": "markdown",
   "id": "e6c23cbf",
   "metadata": {},
   "source": [
    "Réparation des \"extentions\" manquantes : "
   ]
  },
  {
   "cell_type": "code",
   "execution_count": 22,
   "id": "b1033be7",
   "metadata": {},
   "outputs": [
    {
     "name": "stdout",
     "output_type": "stream",
     "text": [
      "Note: you may need to restart the kernel to use updated packages.\n"
     ]
    }
   ],
   "source": [
    "pip install xlrd>=2.0.1"
   ]
  },
  {
   "cell_type": "code",
   "execution_count": null,
   "id": "e0571f3d",
   "metadata": {},
   "outputs": [],
   "source": [
    "conda install -c conda-forge xlrd>=2.0.1"
   ]
  },
  {
   "cell_type": "code",
   "execution_count": 1,
   "id": "d12fab79",
   "metadata": {},
   "outputs": [],
   "source": [
    "import numpy as np\n",
    "import pandas as pd\n",
    "import matplotlib.pyplot as plt\n",
    "\n",
    "data = pd.read_excel('C:\\\\Users\\\\chikr\\\\Downloads\\\\titanic.xls')"
   ]
  },
  {
   "cell_type": "code",
   "execution_count": 4,
   "id": "8d9c7cf4",
   "metadata": {},
   "outputs": [
    {
     "data": {
      "text/plain": [
       "(1309, 14)"
      ]
     },
     "execution_count": 4,
     "metadata": {},
     "output_type": "execute_result"
    }
   ],
   "source": [
    "data.shape #dimension du fichier"
   ]
  },
  {
   "cell_type": "code",
   "execution_count": 11,
   "id": "d7585fbe",
   "metadata": {},
   "outputs": [
    {
     "data": {
      "text/plain": [
       "Index(['pclass', 'survived', 'name', 'sex', 'age', 'sibsp', 'parch', 'ticket',\n",
       "       'fare', 'cabin', 'embarked', 'boat', 'body', 'home.dest'],\n",
       "      dtype='object')"
      ]
     },
     "execution_count": 11,
     "metadata": {},
     "output_type": "execute_result"
    }
   ],
   "source": [
    "data.columns #affichage des colonnnes"
   ]
  },
  {
   "cell_type": "code",
   "execution_count": null,
   "id": "e52c2d4b",
   "metadata": {},
   "outputs": [],
   "source": [
    "data.head #afficher le header"
   ]
  },
  {
   "cell_type": "code",
   "execution_count": 13,
   "id": "c3f7cc53",
   "metadata": {},
   "outputs": [],
   "source": [
    "data = data.drop(['name', 'sibsp', 'parch', 'ticket',\n",
    "                  'fare', 'cabin', 'embarked', 'boat',\n",
    "                  'body', 'home.dest'], axis=1)\n",
    "\n",
    "#suppression des datas inutiles en colonne avec l'axe 1"
   ]
  },
  {
   "cell_type": "code",
   "execution_count": 14,
   "id": "9328897a",
   "metadata": {},
   "outputs": [
    {
     "data": {
      "text/html": [
       "<div>\n",
       "<style scoped>\n",
       "    .dataframe tbody tr th:only-of-type {\n",
       "        vertical-align: middle;\n",
       "    }\n",
       "\n",
       "    .dataframe tbody tr th {\n",
       "        vertical-align: top;\n",
       "    }\n",
       "\n",
       "    .dataframe thead th {\n",
       "        text-align: right;\n",
       "    }\n",
       "</style>\n",
       "<table border=\"1\" class=\"dataframe\">\n",
       "  <thead>\n",
       "    <tr style=\"text-align: right;\">\n",
       "      <th></th>\n",
       "      <th>pclass</th>\n",
       "      <th>survived</th>\n",
       "      <th>age</th>\n",
       "    </tr>\n",
       "  </thead>\n",
       "  <tbody>\n",
       "    <tr>\n",
       "      <th>count</th>\n",
       "      <td>1309.000000</td>\n",
       "      <td>1309.000000</td>\n",
       "      <td>1046.000000</td>\n",
       "    </tr>\n",
       "    <tr>\n",
       "      <th>mean</th>\n",
       "      <td>2.294882</td>\n",
       "      <td>0.381971</td>\n",
       "      <td>29.881135</td>\n",
       "    </tr>\n",
       "    <tr>\n",
       "      <th>std</th>\n",
       "      <td>0.837836</td>\n",
       "      <td>0.486055</td>\n",
       "      <td>14.413500</td>\n",
       "    </tr>\n",
       "    <tr>\n",
       "      <th>min</th>\n",
       "      <td>1.000000</td>\n",
       "      <td>0.000000</td>\n",
       "      <td>0.166700</td>\n",
       "    </tr>\n",
       "    <tr>\n",
       "      <th>25%</th>\n",
       "      <td>2.000000</td>\n",
       "      <td>0.000000</td>\n",
       "      <td>21.000000</td>\n",
       "    </tr>\n",
       "    <tr>\n",
       "      <th>50%</th>\n",
       "      <td>3.000000</td>\n",
       "      <td>0.000000</td>\n",
       "      <td>28.000000</td>\n",
       "    </tr>\n",
       "    <tr>\n",
       "      <th>75%</th>\n",
       "      <td>3.000000</td>\n",
       "      <td>1.000000</td>\n",
       "      <td>39.000000</td>\n",
       "    </tr>\n",
       "    <tr>\n",
       "      <th>max</th>\n",
       "      <td>3.000000</td>\n",
       "      <td>1.000000</td>\n",
       "      <td>80.000000</td>\n",
       "    </tr>\n",
       "  </tbody>\n",
       "</table>\n",
       "</div>"
      ],
      "text/plain": [
       "            pclass     survived          age\n",
       "count  1309.000000  1309.000000  1046.000000\n",
       "mean      2.294882     0.381971    29.881135\n",
       "std       0.837836     0.486055    14.413500\n",
       "min       1.000000     0.000000     0.166700\n",
       "25%       2.000000     0.000000    21.000000\n",
       "50%       3.000000     0.000000    28.000000\n",
       "75%       3.000000     1.000000    39.000000\n",
       "max       3.000000     1.000000    80.000000"
      ]
     },
     "execution_count": 14,
     "metadata": {},
     "output_type": "execute_result"
    }
   ],
   "source": [
    "data.describe() #avoir les statistiques de base"
   ]
  },
  {
   "cell_type": "code",
   "execution_count": 16,
   "id": "630fe721",
   "metadata": {},
   "outputs": [],
   "source": [
    "data = data.dropna(axis=0) #supression des lignes avec l'axe 0"
   ]
  },
  {
   "cell_type": "code",
   "execution_count": 19,
   "id": "ccafcd47",
   "metadata": {},
   "outputs": [
    {
     "data": {
      "text/plain": [
       "pclass\n",
       "3    501\n",
       "1    284\n",
       "2    261\n",
       "Name: count, dtype: int64"
      ]
     },
     "execution_count": 19,
     "metadata": {},
     "output_type": "execute_result"
    }
   ],
   "source": [
    "data['pclass'].value_counts() #trie par colonne"
   ]
  },
  {
   "cell_type": "code",
   "execution_count": 21,
   "id": "afe479c9",
   "metadata": {},
   "outputs": [
    {
     "data": {
      "text/plain": [
       "<Axes: xlabel='pclass'>"
      ]
     },
     "execution_count": 21,
     "metadata": {},
     "output_type": "execute_result"
    },
    {
     "data": {
      "image/png": "[encoded data removed]",
      "text/plain": [
       "<Figure size 640x480 with 1 Axes>"
      ]
     },
     "metadata": {},
     "output_type": "display_data"
    }
   ],
   "source": [
    "data['pclass'].value_counts().plot.bar() #affichage des résultats"
   ]
  },
  {
   "cell_type": "code",
   "execution_count": 22,
   "id": "c0847247",
   "metadata": {},
   "outputs": [
    {
     "data": {
      "text/html": [
       "<div>\n",
       "<style scoped>\n",
       "    .dataframe tbody tr th:only-of-type {\n",
       "        vertical-align: middle;\n",
       "    }\n",
       "\n",
       "    .dataframe tbody tr th {\n",
       "        vertical-align: top;\n",
       "    }\n",
       "\n",
       "    .dataframe thead th {\n",
       "        text-align: right;\n",
       "    }\n",
       "</style>\n",
       "<table border=\"1\" class=\"dataframe\">\n",
       "  <thead>\n",
       "    <tr style=\"text-align: right;\">\n",
       "      <th></th>\n",
       "      <th>pclass</th>\n",
       "      <th>survived</th>\n",
       "      <th>age</th>\n",
       "    </tr>\n",
       "    <tr>\n",
       "      <th>sex</th>\n",
       "      <th></th>\n",
       "      <th></th>\n",
       "      <th></th>\n",
       "    </tr>\n",
       "  </thead>\n",
       "  <tbody>\n",
       "    <tr>\n",
       "      <th>female</th>\n",
       "      <td>2.048969</td>\n",
       "      <td>0.752577</td>\n",
       "      <td>28.687071</td>\n",
       "    </tr>\n",
       "    <tr>\n",
       "      <th>male</th>\n",
       "      <td>2.300912</td>\n",
       "      <td>0.205167</td>\n",
       "      <td>30.585233</td>\n",
       "    </tr>\n",
       "  </tbody>\n",
       "</table>\n",
       "</div>"
      ],
      "text/plain": [
       "          pclass  survived        age\n",
       "sex                                  \n",
       "female  2.048969  0.752577  28.687071\n",
       "male    2.300912  0.205167  30.585233"
      ]
     },
     "execution_count": 22,
     "metadata": {},
     "output_type": "execute_result"
    }
   ],
   "source": [
    "data.groupby([\"sex\"]).mean() #moyenne par groupe de sex"
   ]
  },
  {
   "cell_type": "code",
   "execution_count": 23,
   "id": "c7718ee7",
   "metadata": {},
   "outputs": [
    {
     "data": {
      "text/html": [
       "<div>\n",
       "<style scoped>\n",
       "    .dataframe tbody tr th:only-of-type {\n",
       "        vertical-align: middle;\n",
       "    }\n",
       "\n",
       "    .dataframe tbody tr th {\n",
       "        vertical-align: top;\n",
       "    }\n",
       "\n",
       "    .dataframe thead th {\n",
       "        text-align: right;\n",
       "    }\n",
       "</style>\n",
       "<table border=\"1\" class=\"dataframe\">\n",
       "  <thead>\n",
       "    <tr style=\"text-align: right;\">\n",
       "      <th></th>\n",
       "      <th></th>\n",
       "      <th>survived</th>\n",
       "      <th>age</th>\n",
       "    </tr>\n",
       "    <tr>\n",
       "      <th>sex</th>\n",
       "      <th>pclass</th>\n",
       "      <th></th>\n",
       "      <th></th>\n",
       "    </tr>\n",
       "  </thead>\n",
       "  <tbody>\n",
       "    <tr>\n",
       "      <th rowspan=\"3\" valign=\"top\">female</th>\n",
       "      <th>1</th>\n",
       "      <td>0.962406</td>\n",
       "      <td>37.037594</td>\n",
       "    </tr>\n",
       "    <tr>\n",
       "      <th>2</th>\n",
       "      <td>0.893204</td>\n",
       "      <td>27.499191</td>\n",
       "    </tr>\n",
       "    <tr>\n",
       "      <th>3</th>\n",
       "      <td>0.473684</td>\n",
       "      <td>22.185307</td>\n",
       "    </tr>\n",
       "    <tr>\n",
       "      <th rowspan=\"3\" valign=\"top\">male</th>\n",
       "      <th>1</th>\n",
       "      <td>0.350993</td>\n",
       "      <td>41.029250</td>\n",
       "    </tr>\n",
       "    <tr>\n",
       "      <th>2</th>\n",
       "      <td>0.145570</td>\n",
       "      <td>30.815401</td>\n",
       "    </tr>\n",
       "    <tr>\n",
       "      <th>3</th>\n",
       "      <td>0.169054</td>\n",
       "      <td>25.962273</td>\n",
       "    </tr>\n",
       "  </tbody>\n",
       "</table>\n",
       "</div>"
      ],
      "text/plain": [
       "               survived        age\n",
       "sex    pclass                     \n",
       "female 1       0.962406  37.037594\n",
       "       2       0.893204  27.499191\n",
       "       3       0.473684  22.185307\n",
       "male   1       0.350993  41.029250\n",
       "       2       0.145570  30.815401\n",
       "       3       0.169054  25.962273"
      ]
     },
     "execution_count": 23,
     "metadata": {},
     "output_type": "execute_result"
    }
   ],
   "source": [
    "data.groupby([\"sex\", \"pclass\"]).mean() #moyenne par groupe de sex et classe"
   ]
  },
  {
   "cell_type": "code",
   "execution_count": 25,
   "id": "89f5209a",
   "metadata": {},
   "outputs": [
    {
     "data": {
      "text/plain": [
       "0       False\n",
       "1        True\n",
       "2        True\n",
       "3       False\n",
       "4       False\n",
       "        ...  \n",
       "1301    False\n",
       "1304     True\n",
       "1306    False\n",
       "1307    False\n",
       "1308    False\n",
       "Name: age, Length: 1046, dtype: bool"
      ]
     },
     "execution_count": 25,
     "metadata": {},
     "output_type": "execute_result"
    }
   ],
   "source": [
    "data['age'] < 18 #Classement booléen des majeurs et mineurs"
   ]
  },
  {
   "cell_type": "code",
   "execution_count": 29,
   "id": "8049a608",
   "metadata": {},
   "outputs": [
    {
     "data": {
      "text/html": [
       "<div>\n",
       "<style scoped>\n",
       "    .dataframe tbody tr th:only-of-type {\n",
       "        vertical-align: middle;\n",
       "    }\n",
       "\n",
       "    .dataframe tbody tr th {\n",
       "        vertical-align: top;\n",
       "    }\n",
       "\n",
       "    .dataframe thead th {\n",
       "        text-align: right;\n",
       "    }\n",
       "</style>\n",
       "<table border=\"1\" class=\"dataframe\">\n",
       "  <thead>\n",
       "    <tr style=\"text-align: right;\">\n",
       "      <th></th>\n",
       "      <th></th>\n",
       "      <th>survived</th>\n",
       "      <th>age</th>\n",
       "    </tr>\n",
       "    <tr>\n",
       "      <th>sex</th>\n",
       "      <th>pclass</th>\n",
       "      <th></th>\n",
       "      <th></th>\n",
       "    </tr>\n",
       "  </thead>\n",
       "  <tbody>\n",
       "    <tr>\n",
       "      <th rowspan=\"3\" valign=\"top\">female</th>\n",
       "      <th>1</th>\n",
       "      <td>0.875000</td>\n",
       "      <td>14.125000</td>\n",
       "    </tr>\n",
       "    <tr>\n",
       "      <th>2</th>\n",
       "      <td>1.000000</td>\n",
       "      <td>8.273150</td>\n",
       "    </tr>\n",
       "    <tr>\n",
       "      <th>3</th>\n",
       "      <td>0.543478</td>\n",
       "      <td>8.416667</td>\n",
       "    </tr>\n",
       "    <tr>\n",
       "      <th rowspan=\"3\" valign=\"top\">male</th>\n",
       "      <th>1</th>\n",
       "      <td>0.857143</td>\n",
       "      <td>9.845243</td>\n",
       "    </tr>\n",
       "    <tr>\n",
       "      <th>2</th>\n",
       "      <td>0.733333</td>\n",
       "      <td>6.222220</td>\n",
       "    </tr>\n",
       "    <tr>\n",
       "      <th>3</th>\n",
       "      <td>0.233333</td>\n",
       "      <td>9.838888</td>\n",
       "    </tr>\n",
       "  </tbody>\n",
       "</table>\n",
       "</div>"
      ],
      "text/plain": [
       "               survived        age\n",
       "sex    pclass                     \n",
       "female 1       0.875000  14.125000\n",
       "       2       1.000000   8.273150\n",
       "       3       0.543478   8.416667\n",
       "male   1       0.857143   9.845243\n",
       "       2       0.733333   6.222220\n",
       "       3       0.233333   9.838888"
      ]
     },
     "execution_count": 29,
     "metadata": {},
     "output_type": "execute_result"
    }
   ],
   "source": [
    "data[data[\"age\"] < 18].groupby(['sex','pclass']).mean()\n",
    "#moyenne par sexe et classe en fonction de l'age"
   ]
  },
  {
   "cell_type": "markdown",
   "id": "6f6548d1",
   "metadata": {},
   "source": [
    "## Exercice video : \n",
    "Modifier le contenue de la colonne age, pour créer 4 catégories d'age :\n",
    "- Moins de 20\n",
    "- de 20 à 30\n",
    "- de 30 à 40\n",
    "- 40 et plus"
   ]
  },
  {
   "cell_type": "code",
   "execution_count": 52,
   "id": "bdd8b52f",
   "metadata": {},
   "outputs": [
    {
     "data": {
      "text/html": [
       "<div>\n",
       "<style scoped>\n",
       "    .dataframe tbody tr th:only-of-type {\n",
       "        vertical-align: middle;\n",
       "    }\n",
       "\n",
       "    .dataframe tbody tr th {\n",
       "        vertical-align: top;\n",
       "    }\n",
       "\n",
       "    .dataframe thead th {\n",
       "        text-align: right;\n",
       "    }\n",
       "</style>\n",
       "<table border=\"1\" class=\"dataframe\">\n",
       "  <thead>\n",
       "    <tr style=\"text-align: right;\">\n",
       "      <th></th>\n",
       "      <th>pclass</th>\n",
       "      <th>survived</th>\n",
       "      <th>sex</th>\n",
       "      <th>age</th>\n",
       "      <th>ageparcategorie</th>\n",
       "    </tr>\n",
       "  </thead>\n",
       "  <tbody>\n",
       "    <tr>\n",
       "      <th>0</th>\n",
       "      <td>1</td>\n",
       "      <td>1</td>\n",
       "      <td>female</td>\n",
       "      <td>29.0000</td>\n",
       "      <td>2</td>\n",
       "    </tr>\n",
       "    <tr>\n",
       "      <th>1</th>\n",
       "      <td>1</td>\n",
       "      <td>1</td>\n",
       "      <td>male</td>\n",
       "      <td>0.9167</td>\n",
       "      <td>1</td>\n",
       "    </tr>\n",
       "    <tr>\n",
       "      <th>2</th>\n",
       "      <td>1</td>\n",
       "      <td>0</td>\n",
       "      <td>female</td>\n",
       "      <td>2.0000</td>\n",
       "      <td>1</td>\n",
       "    </tr>\n",
       "    <tr>\n",
       "      <th>3</th>\n",
       "      <td>1</td>\n",
       "      <td>0</td>\n",
       "      <td>male</td>\n",
       "      <td>30.0000</td>\n",
       "      <td>0</td>\n",
       "    </tr>\n",
       "    <tr>\n",
       "      <th>4</th>\n",
       "      <td>1</td>\n",
       "      <td>0</td>\n",
       "      <td>female</td>\n",
       "      <td>25.0000</td>\n",
       "      <td>2</td>\n",
       "    </tr>\n",
       "  </tbody>\n",
       "</table>\n",
       "</div>"
      ],
      "text/plain": [
       "   pclass  survived     sex      age  ageparcategorie\n",
       "0       1         1  female  29.0000                2\n",
       "1       1         1    male   0.9167                1\n",
       "2       1         0  female   2.0000                1\n",
       "3       1         0    male  30.0000                0\n",
       "4       1         0  female  25.0000                2"
      ]
     },
     "execution_count": 52,
     "metadata": {},
     "output_type": "execute_result"
    }
   ],
   "source": [
    "moinsde20 = data['age'] < 20\n",
    "de20a30 = (data['age'] > 20) & (data['age']< 30)\n",
    "de30a40 = (data['age'] > 30) & (data['age']< 40)\n",
    "de40etplus = (data['age'] >= 40)\n",
    "\n",
    "data['ageparcategorie'] = 0 #nouvelle catégorie\n",
    "\n",
    "data.loc[moinsde20, 'ageparcategorie'] = 1\n",
    "data.loc[de20a30, 'ageparcategorie'] = 2\n",
    "data.loc[de30a40, 'ageparcategorie'] = 3\n",
    "data.loc[de40etplus, 'ageparcategorie'] = 4\n",
    "\n",
    "\n",
    "data.head()"
   ]
  },
  {
   "cell_type": "code",
   "execution_count": 9,
   "id": "61f6f806",
   "metadata": {},
   "outputs": [
    {
     "data": {
      "text/plain": [
       "0       Categorie impossible, il y a des lettres\n",
       "1       Categorie impossible, il y a des lettres\n",
       "2                                 entre 20 et 30\n",
       "3       Categorie impossible, il y a des lettres\n",
       "4       Categorie impossible, il y a des lettres\n",
       "                          ...                   \n",
       "1304    Categorie impossible, il y a des lettres\n",
       "1305    Categorie impossible, il y a des lettres\n",
       "1306    Categorie impossible, il y a des lettres\n",
       "1307    Categorie impossible, il y a des lettres\n",
       "1308    Categorie impossible, il y a des lettres\n",
       "Name: age, Length: 1309, dtype: object"
      ]
     },
     "execution_count": 9,
     "metadata": {},
     "output_type": "execute_result"
    }
   ],
   "source": [
    "import numpy as np\n",
    "import pandas as pd\n",
    "import matplotlib.pyplot as plt\n",
    "\n",
    "data = pd.read_excel('C:\\\\Users\\\\chikr\\\\Downloads\\\\titanic.xls')\n",
    "\n",
    "moinsde20 = data['age'] < 20\n",
    "de20a30 = (data['age'] > 20) & (data['age']< 30)\n",
    "de30a40 = (data['age'] > 30) & (data['age']< 40)\n",
    "de40etplus = (data['age'] >= 40)\n",
    "\n",
    "data['ageparcategorie'] = 0 #nouvelle catégorie\n",
    "\n",
    "data.loc[moinsde20, 'ageparcategorie'] = 1\n",
    "data.loc[de20a30, 'ageparcategorie'] = 2\n",
    "data.loc[de30a40, 'ageparcategorie'] = 3\n",
    "data.loc[de40etplus, 'ageparcategorie'] = 4\n",
    "\n",
    "def agecat(ageparcategorie):\n",
    "    if ageparcategorie == 1 :\n",
    "        return 'moins de 20'\n",
    "    elif ageparcategorie == 2 :\n",
    "        return 'entre 20 et 30'\n",
    "    elif ageparcategorie == 3 :\n",
    "        return 'entre 30 et 40'\n",
    "    elif ageparcategorie == 4 :\n",
    "        return 'plus de 40'\n",
    "    else:\n",
    "        return 'Categorie impossible, il y a des lettres'\n",
    "    \n",
    "data['age'].map(agecat)\n"
   ]
  },
  {
   "cell_type": "code",
   "execution_count": null,
   "id": "7148e493",
   "metadata": {},
   "outputs": [],
   "source": []
  }
 ],
 "metadata": {
  "kernelspec": {
   "display_name": "Python 3 (ipykernel)",
   "language": "python",
   "name": "python3"
  },
  "language_info": {
   "codemirror_mode": {
    "name": "ipython",
    "version": 3
   },
   "file_extension": ".py",
   "mimetype": "text/x-python",
   "name": "python",
   "nbconvert_exporter": "python",
   "pygments_lexer": "ipython3",
   "version": "3.11.5"
  }
 },
 "nbformat": 4,
 "nbformat_minor": 5
}
