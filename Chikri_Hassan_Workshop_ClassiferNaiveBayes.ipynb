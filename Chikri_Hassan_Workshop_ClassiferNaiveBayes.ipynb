{
 "cells": [
  {
   "cell_type": "code",
   "execution_count": 51,
   "id": "27ea9ed7-5b04-4ded-a46b-ca4d2233d7ff",
   "metadata": {},
   "outputs": [],
   "source": [
    "def separate_by_class(dataset):\n",
    "    separated = dict()\n",
    "    for i in range(len(dataset)):\n",
    "         vector = dataset[i]\n",
    "         class_value = vector[-1]\n",
    "    if (class_value not in separated):\n",
    "         separated[class_value] = list()\n",
    "         separated[class_value].append(vector)\n",
    "    return separated"
   ]
  },
  {
   "cell_type": "code",
   "execution_count": 52,
   "id": "fa553d3a-3058-4303-849c-f6c099c1a20e",
   "metadata": {},
   "outputs": [
    {
     "name": "stdout",
     "output_type": "stream",
     "text": [
      "1\n",
      "[7.939820817, 0.791637231, 1]\n"
     ]
    }
   ],
   "source": [
    "dataset = [[3.393533211,2.331273381,0],\n",
    " [3.110073483,1.781539638,0],\n",
    " [1.343808831,3.368360954,0],\n",
    " [3.582294042,4.67917911,0],\n",
    " [2.280362439,2.866990263,0],\n",
    " [7.423436942,4.696522875,1],\n",
    " [5.745051997,3.533989803,1],\n",
    " [9.172168622,2.511101045,1],\n",
    " [7.792783481,3.424088941,1],\n",
    " [7.939820817,0.791637231,1]]\n",
    "separated = separate_by_class(dataset)\n",
    "for label in separated:\n",
    "    print(label)\n",
    "for row in separated[label]:\n",
    "    print(row)"
   ]
  },
  {
   "cell_type": "code",
   "execution_count": 53,
   "id": "9039cad1-1aad-4b9b-a03e-cf7531a25248",
   "metadata": {},
   "outputs": [],
   "source": [
    "def mean(numbers):\n",
    "\treturn sum(numbers)/float(len(numbers))"
   ]
  },
  {
   "cell_type": "code",
   "execution_count": 54,
   "id": "fb8d232c-5bc2-4541-a141-27e03b13eb64",
   "metadata": {},
   "outputs": [],
   "source": [
    "\n",
    "from math import sqrt\n",
    " \n",
    "# Calculate the standard deviation of a list of numbers\n",
    "def stdev(numbers):\n",
    "    if len(numbers) <= 1:\n",
    "        return 0\n",
    "    avg = mean(numbers)\n",
    "    variance = sum([(x - avg) ** 2 for x in numbers]) / float(len(numbers) - 1)\n",
    "    return sqrt(variance)"
   ]
  },
  {
   "cell_type": "code",
   "execution_count": 55,
   "id": "be34cde6-3590-4ff1-b7c8-e0f11f34c55f",
   "metadata": {},
   "outputs": [],
   "source": [
    "# Calculate the mean, stdev and count for each column in a dataset\n",
    "def summarize_dataset(dataset):\n",
    " summaries = [(mean(column), stdev(column), len(column)) for column in zip(*dataset)]\n",
    " del(summaries[-1])\n",
    " return summaries"
   ]
  },
  {
   "cell_type": "code",
   "execution_count": 56,
   "id": "39d4543c-9181-4536-887f-30d2ac021b0e",
   "metadata": {},
   "outputs": [
    {
     "name": "stdout",
     "output_type": "stream",
     "text": [
      "[(5.178333386499999, 2.7665845055177263, 10), (2.9984683241, 1.218556343617447, 10)]\n"
     ]
    }
   ],
   "source": [
    "dataset = [[3.393533211,2.331273381,0],\n",
    " [3.110073483,1.781539638,0],\n",
    " [1.343808831,3.368360954,0],\n",
    " [3.582294042,4.67917911,0],\n",
    " [2.280362439,2.866990263,0],\n",
    " [7.423436942,4.696522875,1],\n",
    " [5.745051997,3.533989803,1],\n",
    " [9.172168622,2.511101045,1],\n",
    " [7.792783481,3.424088941,1],\n",
    " [7.939820817,0.791637231,1]]\n",
    "summary = summarize_dataset(dataset)\n",
    "print(summary)"
   ]
  },
  {
   "cell_type": "code",
   "execution_count": 57,
   "id": "948c077b-c1ba-4548-af38-9ba4cea4fa03",
   "metadata": {},
   "outputs": [],
   "source": [
    "# Split dataset by class then calculate statistics for each row\n",
    "def summarize_by_class(dataset):\n",
    "\tseparated = separate_by_class(dataset)\n",
    "\tsummaries = dict()\n",
    "\tfor class_value, rows in separated.items():\n",
    "\t\tsummaries[class_value] = summarize_dataset(rows)\n",
    "\treturn summaries"
   ]
  },
  {
   "cell_type": "code",
   "execution_count": 58,
   "id": "924063d9-37f2-4eac-bc3e-2f40b837e287",
   "metadata": {},
   "outputs": [
    {
     "name": "stdout",
     "output_type": "stream",
     "text": [
      "1\n",
      "(7.939820817, 0, 1)\n",
      "(0.791637231, 0, 1)\n"
     ]
    }
   ],
   "source": [
    "dataset = [[3.393533211,2.331273381,0],\n",
    " [3.110073483,1.781539638,0],\n",
    " [1.343808831,3.368360954,0],\n",
    " [3.582294042,4.67917911,0],\n",
    " [2.280362439,2.866990263,0],\n",
    " [7.423436942,4.696522875,1],\n",
    " [5.745051997,3.533989803,1],\n",
    " [9.172168622,2.511101045,1],\n",
    " [7.792783481,3.424088941,1],\n",
    " [7.939820817,0.791637231,1]]\n",
    "summary = summarize_by_class(dataset)\n",
    "for label in summary:\n",
    " print(label)\n",
    " for row in summary[label]:\n",
    "    print(row)"
   ]
  },
  {
   "cell_type": "code",
   "execution_count": 61,
   "id": "fdfb00f7-06df-40be-ba08-a17cba9c9469",
   "metadata": {},
   "outputs": [],
   "source": [
    "def calculate_probability(x, mean, stdev):\n",
    "    if stdev == 0:\n",
    "        return 1.0 if x == mean else 0.0\n",
    "    exponent = math.exp(-((x - mean) ** 2) / (2 * stdev ** 2))\n",
    "    return (1 / (math.sqrt(2 * math.pi) * stdev)) * exponent"
   ]
  },
  {
   "cell_type": "code",
   "execution_count": 62,
   "id": "0d94c16e-841f-42d4-b319-09ac15b8063f",
   "metadata": {},
   "outputs": [],
   "source": [
    "def calculate_class_probabilities(summaries, row):\n",
    "    total_rows = sum([summaries[label][0][2] for label in summaries])\n",
    "    probabilities = dict()\n",
    "    for class_value, class_summaries in summaries.items():\n",
    "        probabilities[class_value] = summaries[class_value][0][2] / float(total_rows)\n",
    "        for i in range(len(class_summaries)):\n",
    "            mean, stdev, count = class_summaries[i]\n",
    "            probabilities[class_value] *= calculate_probability(row[i], mean, stdev)\n",
    "    return probabilities"
   ]
  },
  {
   "cell_type": "code",
   "execution_count": 63,
   "id": "4afb3f38-ecce-4e7b-aa23-6dd997ed2562",
   "metadata": {},
   "outputs": [
    {
     "name": "stdout",
     "output_type": "stream",
     "text": [
      "{1: 0.0}\n"
     ]
    }
   ],
   "source": [
    "dataset = [[3.393533211,2.331273381,0],\n",
    " [3.110073483,1.781539638,0],\n",
    " [1.343808831,3.368360954,0],\n",
    " [3.582294042,4.67917911,0],\n",
    " [2.280362439,2.866990263,0],\n",
    " [7.423436942,4.696522875,1],\n",
    " [5.745051997,3.533989803,1],\n",
    " [9.172168622,2.511101045,1],\n",
    " [7.792783481,3.424088941,1],\n",
    " [7.939820817,0.791637231,1]]\n",
    "summaries = summarize_by_class(dataset)\n",
    "probabilities = calculate_class_probabilities(summaries, dataset[0])\n",
    "print(probabilities)"
   ]
  },
  {
   "cell_type": "code",
   "execution_count": null,
   "id": "7d44cf15-94da-4179-b59d-0ffcb841fadb",
   "metadata": {},
   "outputs": [],
   "source": []
  }
 ],
 "metadata": {
  "kernelspec": {
   "display_name": "Python 3 (ipykernel)",
   "language": "python",
   "name": "python3"
  },
  "language_info": {
   "codemirror_mode": {
    "name": "ipython",
    "version": 3
   },
   "file_extension": ".py",
   "mimetype": "text/x-python",
   "name": "python",
   "nbconvert_exporter": "python",
   "pygments_lexer": "ipython3",
   "version": "3.11.5"
  }
 },
 "nbformat": 4,
 "nbformat_minor": 5
}
