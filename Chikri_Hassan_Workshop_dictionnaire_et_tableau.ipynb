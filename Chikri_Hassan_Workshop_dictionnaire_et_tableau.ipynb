{
 "cells": [
  {
   "cell_type": "markdown",
   "id": "ecfcf7e7",
   "metadata": {},
   "source": [
    "## Step 1 \n",
    "\n",
    "Création d'un dictionnaire vide\n"
   ]
  },
  {
   "cell_type": "code",
   "execution_count": 8,
   "id": "faf76e0f",
   "metadata": {},
   "outputs": [],
   "source": [
    "client1 = {\"nom\" : \"\", \"prenom\" : \"\", \"sexe\" : \"\", \"somme\" : \"\"}\n",
    "pass"
   ]
  },
  {
   "cell_type": "markdown",
   "id": "44c22480",
   "metadata": {},
   "source": [
    "## Step 2\n",
    "\n",
    "Récupérer les 4 données du client1 en utilisant une boucle, qu’il rentrera directement en console.\n",
    "Puis imprimer les données du premier client. N’oubliez pas le commentaire dans le bloc.\n"
   ]
  },
  {
   "cell_type": "code",
   "execution_count": null,
   "id": "3a28fd99",
   "metadata": {
    "scrolled": true
   },
   "outputs": [],
   "source": [
    "def creeclient(nb):\n",
    "    listeclient = []\n",
    "    \n",
    "    for i in range(nb):\n",
    "        nom = input(\"Veuillez entrer votre nom : \")\n",
    "        prenom = input(\"Veuillez entrer votre prénom : \")\n",
    "        sexe = input(\"Veuillez entrer votre sexe : \")\n",
    "        somme = int(input(\"Veuillez entrer la somme : \"))\n",
    "        \n",
    "        \n",
    "        client = {\"nom\": nom, \"prenom\": prenom, \"sexe\": sexe, \"somme\": somme}\n",
    "        \n",
    "        \n",
    "        listeclient.append(client)\n",
    "    \n",
    "    return listeclient\n",
    "\n",
    "\n",
    "liste_clients = creeclient(2)\n",
    "\n",
    "\n",
    "print(liste_clients)\n",
    "\n",
    "pass"
   ]
  },
  {
   "cell_type": "markdown",
   "id": "ec8270ae",
   "metadata": {},
   "source": [
    "## Step 3\n",
    "Créer une liste de 12 autres dictionnaires (clients) qui possèdent les mêmes clés (attributs)"
   ]
  },
  {
   "cell_type": "code",
   "execution_count": null,
   "id": "191450aa",
   "metadata": {},
   "outputs": [],
   "source": [
    "client2 = {}\n",
    "client3 = {}\n",
    "client4 = {}\n",
    "client5 = {}\n",
    "client6 = {}\n",
    "client7 = {}\n",
    "client8 = {}\n",
    "client9 = {}\n",
    "client10 = {}\n",
    "client11 = {}\n",
    "client12 = {}\n",
    "client13 = {}\n",
    "clientel = [client1, client2, client3, client4, client5, client6, client7, client8, client9, client10, client11, client12, client13]"
   ]
  },
  {
   "cell_type": "markdown",
   "id": "db026b14",
   "metadata": {},
   "source": [
    "## Step 5\n",
    "\n",
    "Ecrire un bloc pour effectuer un retrait de 500 euros pour client4\n"
   ]
  },
  {
   "cell_type": "code",
   "execution_count": null,
   "id": "d3381812",
   "metadata": {},
   "outputs": [],
   "source": [
    "liste_clients[4][\"somme\"] = int(liste_clients[4][\"somme\"]) - 500\n",
    "\n",
    "pass"
   ]
  },
  {
   "cell_type": "markdown",
   "id": "8304f617",
   "metadata": {},
   "source": [
    "## Step 6\n",
    "\n",
    "Ecrire un bloc pour afficher le Solde total"
   ]
  },
  {
   "cell_type": "code",
   "execution_count": null,
   "id": "e801c415",
   "metadata": {},
   "outputs": [],
   "source": [
    "soldetotal = sum(client[\"somme\"] for client in liste_clients)\n",
    "\n",
    "print(soldetotal)\n",
    "\n",
    "pass"
   ]
  },
  {
   "cell_type": "markdown",
   "id": "a9def392",
   "metadata": {},
   "source": [
    "## Step 7\n",
    "\n",
    "Écrivez un bloc pour compter le nombre de clients féminins et masculins"
   ]
  },
  {
   "cell_type": "code",
   "execution_count": null,
   "id": "8e7357cb",
   "metadata": {},
   "outputs": [],
   "source": [
    "nbhomme = 0\n",
    "nbfemme = 0\n",
    "if liste_clients[\"sexe\"] == m\n",
    "    nbhomme+=1\n",
    "else\n",
    "    nbfemme+=1\n",
    "    \n",
    "    print(f\"Il y a {nbhomme} hommes et {nbfemme}femme\")\n",
    "pass"
   ]
  }
 ],
 "metadata": {
  "kernelspec": {
   "display_name": "Python 3 (ipykernel)",
   "language": "python",
   "name": "python3"
  },
  "language_info": {
   "codemirror_mode": {
    "name": "ipython",
    "version": 3
   },
   "file_extension": ".py",
   "mimetype": "text/x-python",
   "name": "python",
   "nbconvert_exporter": "python",
   "pygments_lexer": "ipython3",
   "version": "3.11.5"
  }
 },
 "nbformat": 4,
 "nbformat_minor": 5
}
